{
  "nbformat": 4,
  "nbformat_minor": 0,
  "metadata": {
    "colab": {
      "name": "Tarea_3_Word_Embeddings.ipynb",
      "provenance": [],
      "collapsed_sections": []
    },
    "kernelspec": {
      "display_name": "Python 3",
      "language": "python",
      "name": "python3"
    },
    "language_info": {
      "codemirror_mode": {
        "name": "ipython",
        "version": 3
      },
      "file_extension": ".py",
      "mimetype": "text/x-python",
      "name": "python",
      "nbconvert_exporter": "python",
      "pygments_lexer": "ipython3",
      "version": "3.6.9"
    }
  },
  "cells": [
    {
      "cell_type": "markdown",
      "metadata": {
        "id": "Ckbt7VPDhBwb"
      },
      "source": [
        "# **Tarea 3 - Word Embeddings 📚**\n",
        "\n",
        "**Integrantes:** Louise Schmidt, Sebastián Urbina\n",
        "\n",
        "**Fecha límite de entrega 📆:** 28 de mayo.\n",
        "\n",
        "**Tiempo estimado de dedicación: 8 horas**"
      ]
    },
    {
      "cell_type": "markdown",
      "metadata": {
        "ExecuteTime": {
          "end_time": "2020-03-19T18:30:18.109327Z",
          "start_time": "2020-03-19T18:30:18.103344Z"
        },
        "id": "q5CSRY4oNCHK"
      },
      "source": [
        "\n",
        "**Instrucciones:**\n",
        "- El ejercicio consiste en:\n",
        "    - Responder preguntas relativas a los contenidos vistos en los vídeos y slides de las clases. \n",
        "    - Entrenar Word2Vec y FastText sobre un pequeño corpus.\n",
        "    - Evaluar los embeddings obtenidos en una tarea de clasificación.\n",
        "- La tarea se realiza en grupos de **máximo** 2 personas. Puede ser invidivual pero no es recomendable.\n",
        "- La entrega es a través de u-cursos a más tardar el día estipulado arriba. No se aceptan atrasos.\n",
        "- El formato de entrega es este mismo Jupyter Notebook.\n",
        "- Al momento de la revisión tu código será ejecutado. Por favor verifica que tu entrega no tenga errores de compilación. \n",
        "- En el horario de auxiliar pueden realizar consultas acerca de la tarea a través del canal de Discord del curso. \n",
        "\n",
        "\n",
        "**Referencias**\n",
        "\n",
        "Vídeos: \n",
        "\n",
        "- [Linear Models](https://youtu.be/zhBxDsNLZEA)\n",
        "- [Neural Networks](https://youtu.be/oHZHA8h2xN0)\n",
        "- [Word Embeddings](https://youtu.be/wtwUsJMC9CA)"
      ]
    },
    {
      "cell_type": "markdown",
      "metadata": {
        "id": "G4wYf0vgnbTv"
      },
      "source": [
        "## **Preguntas teóricas 📕 (3 puntos).** ##\n",
        "Para estas preguntas no es necesario implementar código, pero pueden utilizar pseudo código."
      ]
    },
    {
      "cell_type": "markdown",
      "metadata": {
        "id": "B5hUG6-8ngoK"
      },
      "source": [
        "### **Parte 1: Modelos Lineales (1.5 ptos)**"
      ]
    },
    {
      "cell_type": "markdown",
      "metadata": {
        "id": "5yRvZbhsoi8f"
      },
      "source": [
        "Suponga que tiene un dataset de 10.000 documentos etiquetados por 4 categorías: política, deporte, negocios y otros. "
      ]
    },
    {
      "cell_type": "markdown",
      "metadata": {
        "id": "irsqBVmCnx3M"
      },
      "source": [
        "**Pregunta 1**: Diseñe un modelo lineal capaz de clasificar un documento según estas categorías donde el output sea un vector con una distribución de probabilidad con la pertenencia a cada clase. \n",
        "\n",
        "Especifique: representación de los documentos de entrada, parámetros del modelo, transformaciones necesarias para obtener la probabilidad de cada etiqueta y función de pérdida escogida. **(0.75 puntos)**\n",
        "\n",
        "**Respuesta**: Las funciones lineales son una familia, o hypothesis class, que cuentan con determinadas características. Se tiene la función lineal $f( \\vec{x})= \\vec{x} \\cdot W + \\vec{b}$ donde el vector $\\vec{x}$ es el input que contiene una colección de inputs, en este caso $\\vec{x}_{[i]}=\\vec{x}_{p},\\vec{x}_{d}, \\vec{x}_{n},\\vec{x}_{o}$ donde se tienen distintos vectores para cada clase. Estos vectores se obtienen al aplicar algún tipo, supongamos en este caso Bag of Words. La matriz $W$ y el vector $\\vec{b}$ son los parámetros que se buscan para modelar la función, lo cual se hace a través de entrenamiento. La matriz se puede descomponer en cuatro vectores de peso $\\vec{w}_{P}, \\vec{w}_{D}, \\vec{w}_{N}, \\vec{w}_{O}$ con $\\vec{w}_{L}\\in R^{v}$, considerando $v$ como el tamaño del vocabulario. Estos cuatro vectores de peso, junto con sus respectivos $b_{L}$, se reordenan para formar una matriz $W\\in R^{vx4}$ y el vector $\\vec{b}\\in R^{4}$ tal que la solución de la clasificación buscada sea\n",
        "$\\vec{\\hat{y}}=f(\\vec{x})=\\vec{x}\\cdot W+\\vec{b}$. $\\vec{\\hat{y}}$ registra los puntajes asignados a cada clase. Para predecir la clase a la que pertenece el documento, se quiere el mayor puntaje, $\\hat{y}=f(\\vec{x})=argmax_{i}\\vec{\\hat{y}}_{[i]}$. \\\\\n",
        "\n",
        "Para obtener el resultado, se pasa el vector de calificación por la función softmax, la que nos permite mapear los valores a un rango [0,1] e interpretar los valores como probabilidades. $softmax(\\vec{x})_{[i]}=\\frac{e^{\\vec{x}_{[i]}}}{\\sum_{j}e^{\\vec{x}_{[j]}}}$ la cual entrega $\\vec{\\hat{y}}=softmax(\\vec{x}\\cdot W+\\vec{b})$ con $\\vec{\\hat{y}}_{[i]}=\\frac{e^{(\\vec{x}\\cdot W+\\vec{b})_{[i]}}}{\\sum_{j}e^{(\\vec{x}\\cdot W+\\vec{b})_{[j]}}}$ con valores positivos para $\\vec{\\hat{y}}$ los cuales suman 1.\n",
        "\n",
        "La función de pérdida $L(f(\\vec{x};o),y)$ asigna un puntaje numérico al output $\\hat{y}$ predecido dado el valor esperado y. En este caso se propone utilizar cross-entropy loss. $L(\\vec{\\hat{y}},\\vec{y}) =\\sum_{i}\\vec{y}_{i}log(\\vec{\\hat{y}_i})$. Se eligió esta función ya que es útil al querer una interpretación probabilística de un modelo multi-clase. Mide la diferencia entre la distribución de etiqueta real ($\\vec{y}$) y la distribución de la predecida ($\\vec{\\hat{y}}$). La distribución condicional de cada clase adopta la forma $\\vec{\\hat{y}}_{[i]}=P(y=i|x)$. En este caso, pueden existir documentos que pertenezcan a más de una clase. "
      ]
    },
    {
      "cell_type": "markdown",
      "metadata": {
        "id": "G5FaWqBVvL90"
      },
      "source": [
        "**Pregunta 2**: Explique cómo funciona el proceso de entrenamiento en este tipo de modelos y su evaluación. **(0.75 puntos)**\n",
        "\n",
        "**Respuesta**: Al entrenar una función, se define la función de pérdida $L(\\hat{y},y)$. Esta declara la pérdida de predecir $\\hat{y}$ cuando el el output real es $y$. Así, el objetivo del proceso de entrenamiento es definir los valores de los parámetros, en el caso lineal $W$ y $\\vec{b}$, tal que el valor de $L$ se minimice. Es decir, se busca que la función de pérdida retorne el menor valor cuando la predicción sea correcta. También es posible definir un corpus de pérdida con respecto a los parámetros como la pérdida promedio de todos los ejemplos de entrenamiento. Por lo tanto se busca que los valores de los parámetros minimicen $L$."
      ]
    },
    {
      "cell_type": "markdown",
      "metadata": {
        "id": "XkK7pc54njZq"
      },
      "source": [
        "### **Parte 2: Redes Neuronales (1.5 ptos)** "
      ]
    },
    {
      "cell_type": "markdown",
      "metadata": {
        "id": "VUbJjlj_9AFC"
      },
      "source": [
        "Supongamos que tenemos la siguiente red neuronal."
      ]
    },
    {
      "cell_type": "markdown",
      "metadata": {
        "id": "obUfuOYB_TOC"
      },
      "source": [
        "![image.png](https://drive.google.com/uc?export=view&id=1fFTjtMvH6MY8o42_vj010y8eTuCVb5a3)"
      ]
    },
    {
      "cell_type": "markdown",
      "metadata": {
        "id": "s2z-8zKW0_6q"
      },
      "source": [
        "**Pregunta 1**: En clases les explicaron como se puede representar una red neuronal de una y dos capas de manera matemática. Dada la red neuronal anterior, defina la salida $\\vec{\\hat{y}}$ en función del vector $\\vec{x}$, pesos $W^i$, bias $b^i$ y funciones $g,f,h$. \n",
        "\n",
        "Adicionalmente liste y explicite las dimensiones de cada matriz y vector involucrado en la red neuronal. **(0.75 Puntos)**\n",
        "\n",
        "**Respuesta**: \n",
        "\n",
        "Formula:\n",
        "$\\vec{\\hat{y}} = NN_{MLP3}(\\vec{x}) = (h(f(g(\\vec{x}W^1+\\vec{b^1})W^2+\\vec{b^2})W^3+\\vec{b^3}))W^4$\n",
        "\n",
        "Dimensiones: $\\vec{x}\\in R^{3}, W^1 \\in R^{3x2}, b^1\\in R^{2}, W^2 \\in R^{2x3}, b^2\\in R^{3}, W^3 \\in R^{3x1}, b^3\\in R^{1}, W^4 \\in R^{1x4}, \\vec{\\hat{y}}\\in R^{4} $\n",
        "\n",
        "**Pregunta 2**: Explique qué es backpropagation. ¿Cuales serían los parámetros a evaluar en la red neuronal anterior durante backpropagation? **(0.25 puntos)**\n",
        "\n",
        "**Respuesta**: Backpropagation consiste en un método para calcular los gradientes en el entrentamiento de redes neuronales. La idea es computar toda la composición funciones hasta llegar al output con la función de pérdida definida, lo que se llama forward pass y así comenzar el backpropagation que comienza a calcular los gradientes recursivamente desde las capas superiores hasta las inferiores con el fin de minimizar la función de pérdida.\n",
        "\n",
        "En la red neuronal anterior se debería calcular la derivada de la función de pérdida respecto a cada uno de los pesos $W$, lo que implica derivar respecto a las neuronas $h$, ya que dependen a través de $W$ y las funciones de activación.\n",
        "\n",
        "Todo en función de la siguiente expresión:\n",
        "\n",
        "$$\n",
        "     \\frac{\\partial L}{\\partial W^{l}_{[i,j]}} =  g'(\\vec{h^{l}_{[j]}})\\cdot\\sum_{k}\\left(\\vec{\\delta^{l+1}_{[k]}} \\cdot W^{l+1}_{[j,k]} \\right)\\cdot \\vec{z^{(l-1)}_{[j]}}\n",
        "$$\n",
        "\n",
        "Al final los parámetros a evaluar son los pesos $W$, la derivada de las funciones de activación $g'(*)$ y los valores obtenidos una vez se aplican las funciones de activaciones $z(*)$. Se puede notar que es un proceso recursivo que parte desde las capas superiores, donde se obtienen las derivadas directamente de la función de pérdida y luego comienza en \"cascada\" a obtener las derivadas. Esto se realiza intercaladamente con el forward pass con el fin de minimzar la función de pérdida.\n",
        "\n",
        "**Pregunta 3**: Explique los pasos de backpropagation. En la red neuronal anterior: Cuales son las derivadas que debemos calcular para poder obtener $\\vec{\\delta^l_{[j]}}$ en todas las capas? **(0.5 puntos)**\n",
        "\n",
        "**Respuesta**:\n",
        "\n",
        "Primero se tienen las siguientes operaciones que se calculan en el forward pass hasta llegar al output.\n",
        "\n",
        "\\begin{equation}\n",
        "    \\vec{h}^{l}_{[j]} = (\\sum_{i}W^{l}_{[i,j]}\\cdot\\vec{z}^{(l-1)}_{[i]})+\\vec{b}^{l}_{[j]} \\quad\\quad\\quad (1)\n",
        "\\end{equation}\n",
        "\n",
        "Donde, $\\vec{h}^{l}_{[j]}$ representa la neurona $j$ de la capa $l$ y de esta manera es como se obtiene su valor. Se ponderan todas las conexiones $i$ que conectan con $j$(W) con el input que viene de la capa anterior(z).\n",
        "\n",
        "Los $z$ se obtienen luego de aplicar la función de activación, es decir:\n",
        "\n",
        "$$\n",
        "    \\vec{z}^{(l)}_{[j]} = g(\\vec{h}^{l}_{[j]})\\quad\\quad\\quad (2)\n",
        "$$\n",
        "\n",
        "Donde, $\\vec{z}^{(0)}_{[j]} = \\vec{x}_{[j]}$ \n",
        "\n",
        "Para calcular backpropagation debemos darnos cuenta que la derivada de la función de pérdida $L$ con respecto a unos pesos cualquiera $W^{l}_{[i,j]}$ que la preceden, depende de $W$ sólo a través de $\\vec{h}^{l}_{[j]}$, como se puede observar en la ecuación (1). Sabido esto, podemos aplicar regla de la cadena de la siguiente forma:\n",
        "\n",
        "$$\n",
        "    \\frac{\\partial L}{\\partial W^{l}_{[i,j]}} = \\frac{\\partial L}{\\partial \\vec{h^l}_{[j]}} + \\frac{\\partial \\vec{h^{l}}_{[j]}}{\\partial W^{l}_{[i,j]}} = \\vec{\\delta^l_{[j]}}\\cdot \\vec{z^{(l-1)}_{[j]}}\n",
        "$$\n",
        "\n",
        "- $\\vec{z^{(l-1)}_{[j]}}$ se obtiene luego de derivar la expresión (1) respecto a un $W^{l}_{[i,j]}$ cualquiera. Es directo, ya que se cancelan todos los términos que no sean $i,j$ y queda sólo el $z$.\n",
        "\n",
        "Los $\\vec{\\delta^l_{[j]}}$ se obtienen de la siguiente forma. \n",
        "\n",
        "$$\n",
        "    \\vec{\\delta^l_{[j]}} = \\sum_{k}\\left(\\frac{\\partial L}{\\partial \\vec{h^{l+1}_{[k]}}}\\cdot \\frac{\\vec{h^{l+1}_{[k]}}}{\\vec{h^{l+1}_{[j]}}} \\right) = \\sum_{k}\\left(\\vec{\\delta^{l+1}_{[j]}} \\cdot \\frac{\\vec{h^{l+1}_{[k]}}}{\\vec{h^{l+1}_{[j]}}} \\right) \n",
        "$$\n",
        "\n",
        "Donde $k$ recorre todas las neuronas superiores que tienen conexión con la neurona $j$ derivada.\n",
        "\n",
        "Para obtener la expresión de $\\vec{h^{l+1}_{[k]}}$, parametrizamos por $(l+1)$ y reemplazamos la ecuación (2) en la ecuación (1). Con esto se llega a, \n",
        "\n",
        "\\begin{equation}\n",
        "    \\vec{h}^{l+1}_{[k]} = (\\sum_{i}W^{l+1}_{[i,k]}\\cdot g(\\vec{h}^{l}_{[j]}))+\\vec{b}^{l+1}_{[j]} \n",
        "\\end{equation}\n",
        "\n",
        "Derivamos esta expresión respecto a un $\\vec{h^{l}_{[j]}}$ y se cancelan todos los terminos donde $i \\neq j$, por lo que queda:\n",
        "\n",
        "$$\n",
        "    \\frac{\\partial \\vec{h^{l+1}_{[k]}}}{\\partial\\vec{h^{l+1}_{[j]}}} = W^{l+1}_{[j,k]}\\cdot g'(\\vec{h^{l}_{[j]}})\n",
        "$$\n",
        "\n",
        "Finalmente, reemplazando todo se tiene:\n",
        "\n",
        "$$\n",
        "    \\vec{\\delta^l_{[j]}} = g'(\\vec{h^{l}_{[j]}})\\cdot\\sum_{k}\\left(\\vec{\\delta^{l+1}_{[k]}} \\cdot W^{l+1}_{[j,k]} \\right) \n",
        "$$\n",
        "\n",
        "Una expresión recursiva que permite ir obteniendo iterativamente las derivadas respecto a las distintas neuronas $h^{l}_{[i]}$. Con esto ya se tiene todo para aplicar backpropagation."
      ]
    },
    {
      "cell_type": "markdown",
      "metadata": {
        "id": "VNSO7p8KW1uo"
      },
      "source": [
        "### Red Neuronal del ejemplo"
      ]
    },
    {
      "cell_type": "markdown",
      "metadata": {
        "id": "SzLsUehXyjtG"
      },
      "source": [
        "![red_neuronal.png](data:image/png;base64,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)"
      ]
    },
    {
      "cell_type": "markdown",
      "metadata": {
        "id": "8l3qBSz9WsbL"
      },
      "source": [
        "Así, para el caso particular de la red neuronal presentada anteriormente, las derivadas a calcular serían:\n",
        "\n",
        "\n",
        "$$\n",
        "    \\vec{\\delta^1_{[1]}} = g'(\\vec{h^{1}_{[1]}})\\cdot\\left(\\vec{\\delta^{2}_{[1]}} \\cdot W^{2}_{[1,1]} + \\vec{\\delta^{2}_{[2]}} \\cdot W^{2}_{[1,2]} + \\vec{\\delta^{2}_{[3]}} \\cdot W^{2}_{[1,3]} \\right) \\\\\n",
        "    \\vec{\\delta^1_{[2]}} = g'(\\vec{h^{1}_{[2]}})\\cdot\\left(\\vec{\\delta^{2}_{[1]}} \\cdot W^{2}_{[2,1]} + \\vec{\\delta^{2}_{[2]}} \\cdot W^{2}_{[2,2]} + \\vec{\\delta^{2}_{[3]}} \\cdot W^{2}_{[2,3]} \\right) \n",
        "$$\n",
        "\n",
        "$$\n",
        "    \\vec{\\delta^2_{[1]}} = f'(\\vec{h^{2}_{[1]}})\\cdot\\vec{\\delta^{3}_{[1]}} \\cdot W^{3}_{[1,1]} \\\\\n",
        "    \\vec{\\delta^2_{[2]}} = f'(\\vec{h^{2}_{[2]}})\\cdot\\vec{\\delta^{3}_{[1]}} \\cdot W^{3}_{[2,1]} \\\\\n",
        "    \\vec{\\delta^2_{[3]}} = f'(\\vec{h^{2}_{[3]}})\\cdot\\vec{\\delta^{3}_{[1]}} \\cdot W^{3}_{[3,1]} \n",
        "$$\n",
        "\n",
        "$$\n",
        "    \\vec{\\delta^3_{[1]}} = h'(\\vec{h^{3}_{[1]}})\\cdot\\left(\\vec{\\delta^{4}_{[1]}} \\cdot W^{4}_{[1,1]} + \\vec{\\delta^{4}_{[2]}} \\cdot W^{4}_{[1,2]} + \\vec{\\delta^{4}_{[3]}} \\cdot W^{4}_{[1,3]} + \\vec{\\delta^{4}_{[4]}} \\cdot W^{4}_{[1,4]} \\right) \n",
        "$$\n",
        "\n",
        "- Donde $\\vec{\\delta^{4}_{[i]}}=\\vec{\\hat{y}}_{[i]}$, ya que la derivada de la capa superior se obtiene directamente de la función de pérdida."
      ]
    },
    {
      "cell_type": "markdown",
      "metadata": {
        "id": "ocS_vQhR1gcU"
      },
      "source": [
        "## **Preguntas prácticas 💻 (3 puntos).** ##"
      ]
    },
    {
      "cell_type": "markdown",
      "metadata": {
        "id": "Ol82nJ0FnmcP"
      },
      "source": [
        "### **Parte 3: Word Embeddings**"
      ]
    },
    {
      "cell_type": "markdown",
      "metadata": {
        "id": "OgmeSFqKLpFL"
      },
      "source": [
        "En la auxiliar 2 aprendieron como entrenar Word2Vec utilizando gensim. El objetivo de esta parte es comparar los embeddings obtenidos con dos modelos diferentes: Word2Vec y [FastText](https://radimrehurek.com/gensim/models/fasttext.html) (utilizen size=200 en FastText) entrenados en el mismo dataset de diálogos de los Simpson. "
      ]
    },
    {
      "cell_type": "code",
      "metadata": {
        "id": "ecCvnryeQiG7",
        "colab": {
          "base_uri": "https://localhost:8080/"
        },
        "outputId": "56f36bcb-b799-4c2f-d102-9f682317b0b6"
      },
      "source": [
        "import re  \n",
        "import pandas as pd \n",
        "from time import time  \n",
        "from collections import defaultdict \n",
        "import string \n",
        "import multiprocessing\n",
        "import os\n",
        "import gensim\n",
        "import sklearn\n",
        "from sklearn import linear_model\n",
        "from collections import Counter\n",
        "import numpy as np\n",
        "from sklearn.metrics import accuracy_score, precision_score, recall_score, f1_score, roc_auc_score, confusion_matrix, cohen_kappa_score, classification_report\n",
        "\n",
        "# nltk\n",
        "import nltk\n",
        "from nltk.tokenize import word_tokenize\n",
        "nltk.download('punkt')\n",
        "\n",
        "# word2vec\n",
        "from gensim.models import Word2Vec, KeyedVectors, FastText\n",
        "from gensim.models.phrases import Phrases, Phraser\n",
        "from sklearn.model_selection import train_test_split\n",
        "import logging\n",
        "#Plot\n",
        "import matplotlib.pyplot as plt\n",
        "import seaborn as sns\n",
        "#%config InlineBackend.figure_format = 'svg'\n",
        "\n",
        "logging.basicConfig(format='%(asctime)s : %(levelname)s : %(message)s', level=logging.INFO)\n",
        "logger = logging.getLogger(__name__)"
      ],
      "execution_count": null,
      "outputs": [
        {
          "output_type": "stream",
          "text": [
            "[nltk_data] Downloading package punkt to /root/nltk_data...\n",
            "[nltk_data]   Unzipping tokenizers/punkt.zip.\n"
          ],
          "name": "stdout"
        }
      ]
    },
    {
      "cell_type": "markdown",
      "metadata": {
        "id": "tZgN06q4QPi3"
      },
      "source": [
        "Utilizando el dataset adjunto con la tarea:"
      ]
    },
    {
      "cell_type": "code",
      "metadata": {
        "id": "eY3kmg4onnsu",
        "colab": {
          "base_uri": "https://localhost:8080/"
        },
        "outputId": "12a5e0d3-c97b-4fba-95bf-fd075b813d63"
      },
      "source": [
        "data_file = \"dialogue-lines-of-the-simpsons.zip\"\n",
        "df = pd.read_csv(data_file)\n",
        "stopwords = pd.read_csv(\n",
        "    'https://raw.githubusercontent.com/Alir3z4/stop-words/master/english.txt'\n",
        ").values\n",
        "stopwords = Counter(stopwords.flatten().tolist())\n",
        "df = df.dropna().reset_index(drop=True) # Quitar filas vacias"
      ],
      "execution_count": null,
      "outputs": [
        {
          "output_type": "stream",
          "text": [
            "2021-05-24 00:02:45,241 : INFO : NumExpr defaulting to 2 threads.\n"
          ],
          "name": "stderr"
        }
      ]
    },
    {
      "cell_type": "markdown",
      "metadata": {
        "id": "VAg5a5bmWk3T"
      },
      "source": [
        "**Pregunta 1**: Ayudándose de los pasos vistos en la auxiliar, entrene los modelos Word2Vec y FastText sobre el dataset anterior. **(1 punto)** (Hint, le puede servir explorar un poco los datos)"
      ]
    },
    {
      "cell_type": "markdown",
      "metadata": {
        "id": "MWw2fXFRXe5Y"
      },
      "source": [
        "**Respuesta**:"
      ]
    },
    {
      "cell_type": "code",
      "metadata": {
        "colab": {
          "base_uri": "https://localhost:8080/",
          "height": 514
        },
        "id": "LGlQmf15rD1L",
        "outputId": "0b78cd01-4c61-42b4-8ebc-b17a5c3b0e25"
      },
      "source": [
        "df.head(n=15)"
      ],
      "execution_count": null,
      "outputs": [
        {
          "output_type": "execute_result",
          "data": {
            "text/html": [
              "<div>\n",
              "<style scoped>\n",
              "    .dataframe tbody tr th:only-of-type {\n",
              "        vertical-align: middle;\n",
              "    }\n",
              "\n",
              "    .dataframe tbody tr th {\n",
              "        vertical-align: top;\n",
              "    }\n",
              "\n",
              "    .dataframe thead th {\n",
              "        text-align: right;\n",
              "    }\n",
              "</style>\n",
              "<table border=\"1\" class=\"dataframe\">\n",
              "  <thead>\n",
              "    <tr style=\"text-align: right;\">\n",
              "      <th></th>\n",
              "      <th>raw_character_text</th>\n",
              "      <th>spoken_words</th>\n",
              "    </tr>\n",
              "  </thead>\n",
              "  <tbody>\n",
              "    <tr>\n",
              "      <th>0</th>\n",
              "      <td>Miss Hoover</td>\n",
              "      <td>No, actually, it was a little of both. Sometim...</td>\n",
              "    </tr>\n",
              "    <tr>\n",
              "      <th>1</th>\n",
              "      <td>Lisa Simpson</td>\n",
              "      <td>Where's Mr. Bergstrom?</td>\n",
              "    </tr>\n",
              "    <tr>\n",
              "      <th>2</th>\n",
              "      <td>Miss Hoover</td>\n",
              "      <td>I don't know. Although I'd sure like to talk t...</td>\n",
              "    </tr>\n",
              "    <tr>\n",
              "      <th>3</th>\n",
              "      <td>Lisa Simpson</td>\n",
              "      <td>That life is worth living.</td>\n",
              "    </tr>\n",
              "    <tr>\n",
              "      <th>4</th>\n",
              "      <td>Edna Krabappel-Flanders</td>\n",
              "      <td>The polls will be open from now until the end ...</td>\n",
              "    </tr>\n",
              "    <tr>\n",
              "      <th>5</th>\n",
              "      <td>Martin Prince</td>\n",
              "      <td>I don't think there's anything left to say.</td>\n",
              "    </tr>\n",
              "    <tr>\n",
              "      <th>6</th>\n",
              "      <td>Edna Krabappel-Flanders</td>\n",
              "      <td>Bart?</td>\n",
              "    </tr>\n",
              "    <tr>\n",
              "      <th>7</th>\n",
              "      <td>Bart Simpson</td>\n",
              "      <td>Victory party under the slide!</td>\n",
              "    </tr>\n",
              "    <tr>\n",
              "      <th>8</th>\n",
              "      <td>Lisa Simpson</td>\n",
              "      <td>Mr. Bergstrom! Mr. Bergstrom!</td>\n",
              "    </tr>\n",
              "    <tr>\n",
              "      <th>9</th>\n",
              "      <td>Landlady</td>\n",
              "      <td>Hey, hey, he Moved out this morning. He must h...</td>\n",
              "    </tr>\n",
              "    <tr>\n",
              "      <th>10</th>\n",
              "      <td>Lisa Simpson</td>\n",
              "      <td>Do you know where I could find him?</td>\n",
              "    </tr>\n",
              "    <tr>\n",
              "      <th>11</th>\n",
              "      <td>Landlady</td>\n",
              "      <td>I think he's taking the next train to Capital ...</td>\n",
              "    </tr>\n",
              "    <tr>\n",
              "      <th>12</th>\n",
              "      <td>Lisa Simpson</td>\n",
              "      <td>The train, how like him... traditional, yet en...</td>\n",
              "    </tr>\n",
              "    <tr>\n",
              "      <th>13</th>\n",
              "      <td>Landlady</td>\n",
              "      <td>Yes, and it's been the backbone of our country...</td>\n",
              "    </tr>\n",
              "    <tr>\n",
              "      <th>14</th>\n",
              "      <td>Lisa Simpson</td>\n",
              "      <td>I see he touched you, too.</td>\n",
              "    </tr>\n",
              "  </tbody>\n",
              "</table>\n",
              "</div>"
            ],
            "text/plain": [
              "         raw_character_text                                       spoken_words\n",
              "0               Miss Hoover  No, actually, it was a little of both. Sometim...\n",
              "1              Lisa Simpson                             Where's Mr. Bergstrom?\n",
              "2               Miss Hoover  I don't know. Although I'd sure like to talk t...\n",
              "3              Lisa Simpson                         That life is worth living.\n",
              "4   Edna Krabappel-Flanders  The polls will be open from now until the end ...\n",
              "5             Martin Prince        I don't think there's anything left to say.\n",
              "6   Edna Krabappel-Flanders                                              Bart?\n",
              "7              Bart Simpson                     Victory party under the slide!\n",
              "8              Lisa Simpson                      Mr. Bergstrom! Mr. Bergstrom!\n",
              "9                  Landlady  Hey, hey, he Moved out this morning. He must h...\n",
              "10             Lisa Simpson                Do you know where I could find him?\n",
              "11                 Landlady  I think he's taking the next train to Capital ...\n",
              "12             Lisa Simpson  The train, how like him... traditional, yet en...\n",
              "13                 Landlady  Yes, and it's been the backbone of our country...\n",
              "14             Lisa Simpson                         I see he touched you, too."
            ]
          },
          "metadata": {
            "tags": []
          },
          "execution_count": 4
        }
      ]
    },
    {
      "cell_type": "code",
      "metadata": {
        "id": "WXdP6_I1rtn2"
      },
      "source": [
        "punctuation = string.punctuation + \"«»“”‘’…—\"\n",
        "def simple_tokenizer(doc, lower=False):\n",
        "    if lower:\n",
        "        tokenized_doc = doc.translate(str.maketrans(\n",
        "            '', '', punctuation)).lower().split()\n",
        "\n",
        "    tokenized_doc = doc.translate(str.maketrans('', '', punctuation)).split()\n",
        "    tokenized_doc = [\n",
        "        token for token in tokenized_doc if token.lower() not in stopwords\n",
        "    ]\n",
        "    return tokenized_doc\n",
        "\n",
        "cleaned_data = [simple_tokenizer(doc) for doc in df.spoken_words]"
      ],
      "execution_count": null,
      "outputs": []
    },
    {
      "cell_type": "code",
      "metadata": {
        "colab": {
          "base_uri": "https://localhost:8080/"
        },
        "id": "eWb9DbmHr6O-",
        "outputId": "ccda0cee-59b4-461f-8c62-d7ea2cd7304e"
      },
      "source": [
        "n = 1032\n",
        "print(\"Original doc: {}\".format(df.iloc[n, 1]))\n",
        "print(\"After tokenize: {}\".format(cleaned_data[n]))"
      ],
      "execution_count": null,
      "outputs": [
        {
          "output_type": "stream",
          "text": [
            "Original doc: Meditations on turning eight, by Lisa Simpson. I had a cat named Snowball -- She died, she died! Mom said she was sleeping -- She lied, she lied! Why oh why is my cat dead? Couldn't that Chrysler hit me, instead? I had a hamster named Snuffy -- He died, --\n",
            "After tokenize: ['Meditations', 'Lisa', 'Simpson', 'cat', 'named', 'Snowball', 'died', 'died', 'Mom', 'sleeping', 'lied', 'lied', 'cat', 'dead', 'Chrysler', 'hit', 'hamster', 'named', 'Snuffy', 'died']\n"
          ],
          "name": "stdout"
        }
      ]
    },
    {
      "cell_type": "markdown",
      "metadata": {
        "id": "NxTeA4Rgtd1K"
      },
      "source": [
        "Utilizando ``Phrases`` de ``gensim`` se buscarán aquellos palabas que tengan sentido juntas y no separadas. Deben aparecer al menos 100 veces"
      ]
    },
    {
      "cell_type": "code",
      "metadata": {
        "id": "Bvwplz7yTNcr",
        "colab": {
          "base_uri": "https://localhost:8080/"
        },
        "outputId": "28bc3f00-c2d4-4249-8cc6-86d2df7c1ec6"
      },
      "source": [
        "phrases = Phrases(cleaned_data, min_count = 100, progress_per = 10000)"
      ],
      "execution_count": null,
      "outputs": [
        {
          "output_type": "stream",
          "text": [
            "2021-05-24 00:03:05,852 : INFO : collecting all words and their counts\n",
            "2021-05-24 00:03:05,854 : INFO : PROGRESS: at sentence #0, processed 0 words and 0 word types\n",
            "2021-05-24 00:03:05,916 : INFO : PROGRESS: at sentence #10000, processed 33320 words and 32774 word types\n",
            "2021-05-24 00:03:05,981 : INFO : PROGRESS: at sentence #20000, processed 67371 words and 61074 word types\n",
            "2021-05-24 00:03:06,051 : INFO : PROGRESS: at sentence #30000, processed 104569 words and 91367 word types\n",
            "2021-05-24 00:03:06,117 : INFO : PROGRESS: at sentence #40000, processed 138266 words and 116598 word types\n",
            "2021-05-24 00:03:06,181 : INFO : PROGRESS: at sentence #50000, processed 170239 words and 140055 word types\n",
            "2021-05-24 00:03:06,243 : INFO : PROGRESS: at sentence #60000, processed 200105 words and 160956 word types\n",
            "2021-05-24 00:03:06,318 : INFO : PROGRESS: at sentence #70000, processed 233512 words and 184773 word types\n",
            "2021-05-24 00:03:06,392 : INFO : PROGRESS: at sentence #80000, processed 268907 words and 209846 word types\n",
            "2021-05-24 00:03:06,468 : INFO : PROGRESS: at sentence #90000, processed 303348 words and 233815 word types\n",
            "2021-05-24 00:03:06,540 : INFO : PROGRESS: at sentence #100000, processed 337260 words and 257141 word types\n",
            "2021-05-24 00:03:06,616 : INFO : PROGRESS: at sentence #110000, processed 371777 words and 281027 word types\n",
            "2021-05-24 00:03:06,688 : INFO : PROGRESS: at sentence #120000, processed 405287 words and 303526 word types\n",
            "2021-05-24 00:03:06,763 : INFO : PROGRESS: at sentence #130000, processed 438262 words and 323837 word types\n",
            "2021-05-24 00:03:06,776 : INFO : collected 327493 word types from a corpus of 444264 words (unigram + bigrams) and 131853 sentences\n",
            "2021-05-24 00:03:06,779 : INFO : using 327493 counts as vocab in Phrases<0 vocab, min_count=100, threshold=10.0, max_vocab_size=40000000>\n"
          ],
          "name": "stderr"
        }
      ]
    },
    {
      "cell_type": "markdown",
      "metadata": {
        "id": "gV0V_Qw3t3eN"
      },
      "source": [
        "Ahora, usamos `Phraser` para re-tokenizamos el corpus con los bigramas encontrados. Es decir, juntamos los tokens separados que detectamos como frases."
      ]
    },
    {
      "cell_type": "code",
      "metadata": {
        "colab": {
          "base_uri": "https://localhost:8080/"
        },
        "id": "7NwAD63ft4PD",
        "outputId": "bce1227b-1f64-47f7-89ff-4e896a007e8c"
      },
      "source": [
        "bigram = Phraser(phrases)\n",
        "sentences = bigram[cleaned_data]"
      ],
      "execution_count": null,
      "outputs": [
        {
          "output_type": "stream",
          "text": [
            "2021-05-24 00:03:07,232 : INFO : source_vocab length 327493\n",
            "2021-05-24 00:03:10,395 : INFO : Phraser built with 11 phrasegrams\n"
          ],
          "name": "stderr"
        }
      ]
    },
    {
      "cell_type": "code",
      "metadata": {
        "colab": {
          "base_uri": "https://localhost:8080/"
        },
        "id": "umhU634At86B",
        "outputId": "a20529ff-359c-4b62-e9b2-d4475a6f60a3"
      },
      "source": [
        "print(sentences[1032])"
      ],
      "execution_count": null,
      "outputs": [
        {
          "output_type": "stream",
          "text": [
            "['Meditations', 'Lisa', 'Simpson', 'cat', 'named', 'Snowball', 'died', 'died', 'Mom', 'sleeping', 'lied', 'lied', 'cat', 'dead', 'Chrysler', 'hit', 'hamster', 'named', 'Snuffy', 'died']\n"
          ],
          "name": "stdout"
        }
      ]
    },
    {
      "cell_type": "markdown",
      "metadata": {
        "id": "KMe3V-t3vQC9"
      },
      "source": [
        "Definimos el modelo:"
      ]
    },
    {
      "cell_type": "code",
      "metadata": {
        "id": "d4jXwMh0vL4o"
      },
      "source": [
        "simpsons_w2v = Word2Vec(min_count=10,\n",
        "                      window=3,\n",
        "                      size=200,\n",
        "                      sample=6e-5,\n",
        "                      alpha=0.03,\n",
        "                      min_alpha=0.0007,\n",
        "                      negative=20,\n",
        "                      workers=multiprocessing.cpu_count())"
      ],
      "execution_count": null,
      "outputs": []
    },
    {
      "cell_type": "markdown",
      "metadata": {
        "id": "7SVmV7eNvUPJ"
      },
      "source": [
        "Construimos el vocabulario"
      ]
    },
    {
      "cell_type": "code",
      "metadata": {
        "colab": {
          "base_uri": "https://localhost:8080/"
        },
        "id": "8xe6iRE7vVzC",
        "outputId": "2d092b69-d50f-441e-aa99-6315e91db39c"
      },
      "source": [
        "simpsons_w2v.build_vocab(sentences, progress_per=40000)"
      ],
      "execution_count": null,
      "outputs": [
        {
          "output_type": "stream",
          "text": [
            "2021-05-24 00:03:10,992 : INFO : collecting all words and their counts\n",
            "2021-05-24 00:03:10,996 : INFO : PROGRESS: at sentence #0, processed 0 words, keeping 0 word types\n",
            "2021-05-24 00:03:11,592 : INFO : PROGRESS: at sentence #40000, processed 137471 words, keeping 27257 word types\n",
            "2021-05-24 00:03:12,174 : INFO : PROGRESS: at sentence #80000, processed 267551 words, keeping 41818 word types\n",
            "2021-05-24 00:03:12,766 : INFO : PROGRESS: at sentence #120000, processed 403504 words, keeping 54166 word types\n",
            "2021-05-24 00:03:12,943 : INFO : collected 56639 word types from a corpus of 442276 raw words and 131853 sentences\n",
            "2021-05-24 00:03:12,946 : INFO : Loading a fresh vocabulary\n",
            "2021-05-24 00:03:12,982 : INFO : effective_min_count=10 retains 6503 unique words (11% of original 56639, drops 50136)\n",
            "2021-05-24 00:03:12,983 : INFO : effective_min_count=10 leaves 337000 word corpus (76% of original 442276, drops 105276)\n",
            "2021-05-24 00:03:13,012 : INFO : deleting the raw counts dictionary of 56639 items\n",
            "2021-05-24 00:03:13,014 : INFO : sample=6e-05 downsamples 1282 most-common words\n",
            "2021-05-24 00:03:13,017 : INFO : downsampling leaves estimated 203191 word corpus (60.3% of prior 337000)\n",
            "2021-05-24 00:03:13,033 : INFO : estimated required memory for 6503 words and 200 dimensions: 13656300 bytes\n",
            "2021-05-24 00:03:13,035 : INFO : resetting layer weights\n"
          ],
          "name": "stderr"
        }
      ]
    },
    {
      "cell_type": "markdown",
      "metadata": {
        "id": "rxK8tcHUvaLj"
      },
      "source": [
        "Entrenamos el modelo ``Word2Vec``"
      ]
    },
    {
      "cell_type": "code",
      "metadata": {
        "colab": {
          "base_uri": "https://localhost:8080/"
        },
        "id": "IcdrAS_XvcSj",
        "outputId": "29996248-bbfe-4469-d948-877507f910b6"
      },
      "source": [
        "t = time()\n",
        "simpsons_w2v.train(sentences, total_examples=simpsons_w2v.corpus_count, epochs=15, report_delay=10)\n",
        "print('Time to train the model: {} mins'.format(round((time() - t) / 60, 2)))"
      ],
      "execution_count": null,
      "outputs": [
        {
          "output_type": "stream",
          "text": [
            "2021-05-24 00:03:14,344 : INFO : training model with 2 workers on 6503 vocabulary and 200 features, using sg=0 hs=0 sample=6e-05 negative=20 window=3\n",
            "2021-05-24 00:03:15,391 : INFO : EPOCH 1 - PROGRESS: at 40.55% examples, 80323 words/s, in_qsize 0, out_qsize 0\n",
            "2021-05-24 00:03:16,889 : INFO : worker thread finished; awaiting finish of 1 more threads\n",
            "2021-05-24 00:03:16,904 : INFO : worker thread finished; awaiting finish of 0 more threads\n",
            "2021-05-24 00:03:16,906 : INFO : EPOCH - 1 : training on 442276 raw words (203184 effective words) took 2.5s, 79909 effective words/s\n",
            "2021-05-24 00:03:17,920 : INFO : EPOCH 2 - PROGRESS: at 35.62% examples, 72925 words/s, in_qsize 1, out_qsize 0\n",
            "2021-05-24 00:03:19,409 : INFO : worker thread finished; awaiting finish of 1 more threads\n",
            "2021-05-24 00:03:19,424 : INFO : worker thread finished; awaiting finish of 0 more threads\n",
            "2021-05-24 00:03:19,425 : INFO : EPOCH - 2 : training on 442276 raw words (203190 effective words) took 2.5s, 80876 effective words/s\n",
            "2021-05-24 00:03:20,437 : INFO : EPOCH 3 - PROGRESS: at 35.62% examples, 73247 words/s, in_qsize 0, out_qsize 0\n",
            "2021-05-24 00:03:22,059 : INFO : worker thread finished; awaiting finish of 1 more threads\n",
            "2021-05-24 00:03:22,070 : INFO : worker thread finished; awaiting finish of 0 more threads\n",
            "2021-05-24 00:03:22,071 : INFO : EPOCH - 3 : training on 442276 raw words (203078 effective words) took 2.6s, 77100 effective words/s\n",
            "2021-05-24 00:03:23,094 : INFO : EPOCH 4 - PROGRESS: at 40.55% examples, 81709 words/s, in_qsize 0, out_qsize 0\n",
            "2021-05-24 00:03:24,576 : INFO : worker thread finished; awaiting finish of 1 more threads\n",
            "2021-05-24 00:03:24,590 : INFO : worker thread finished; awaiting finish of 0 more threads\n",
            "2021-05-24 00:03:24,591 : INFO : EPOCH - 4 : training on 442276 raw words (203091 effective words) took 2.5s, 80945 effective words/s\n",
            "2021-05-24 00:03:25,606 : INFO : EPOCH 5 - PROGRESS: at 40.55% examples, 82562 words/s, in_qsize 0, out_qsize 0\n",
            "2021-05-24 00:03:27,098 : INFO : worker thread finished; awaiting finish of 1 more threads\n",
            "2021-05-24 00:03:27,114 : INFO : worker thread finished; awaiting finish of 0 more threads\n",
            "2021-05-24 00:03:27,115 : INFO : EPOCH - 5 : training on 442276 raw words (203231 effective words) took 2.5s, 80871 effective words/s\n",
            "2021-05-24 00:03:28,126 : INFO : EPOCH 6 - PROGRESS: at 40.55% examples, 82663 words/s, in_qsize 0, out_qsize 0\n",
            "2021-05-24 00:03:29,618 : INFO : worker thread finished; awaiting finish of 1 more threads\n",
            "2021-05-24 00:03:29,632 : INFO : worker thread finished; awaiting finish of 0 more threads\n",
            "2021-05-24 00:03:29,633 : INFO : EPOCH - 6 : training on 442276 raw words (203335 effective words) took 2.5s, 81079 effective words/s\n",
            "2021-05-24 00:03:30,664 : INFO : EPOCH 7 - PROGRESS: at 35.62% examples, 71926 words/s, in_qsize 1, out_qsize 0\n",
            "2021-05-24 00:03:32,152 : INFO : worker thread finished; awaiting finish of 1 more threads\n",
            "2021-05-24 00:03:32,166 : INFO : worker thread finished; awaiting finish of 0 more threads\n",
            "2021-05-24 00:03:32,167 : INFO : EPOCH - 7 : training on 442276 raw words (203203 effective words) took 2.5s, 80514 effective words/s\n",
            "2021-05-24 00:03:33,225 : INFO : EPOCH 8 - PROGRESS: at 38.07% examples, 74313 words/s, in_qsize 0, out_qsize 0\n",
            "2021-05-24 00:03:34,754 : INFO : worker thread finished; awaiting finish of 1 more threads\n",
            "2021-05-24 00:03:34,775 : INFO : worker thread finished; awaiting finish of 0 more threads\n",
            "2021-05-24 00:03:34,778 : INFO : EPOCH - 8 : training on 442276 raw words (203417 effective words) took 2.6s, 78163 effective words/s\n",
            "2021-05-24 00:03:35,795 : INFO : EPOCH 9 - PROGRESS: at 40.55% examples, 81870 words/s, in_qsize 0, out_qsize 0\n",
            "2021-05-24 00:03:37,267 : INFO : worker thread finished; awaiting finish of 1 more threads\n",
            "2021-05-24 00:03:37,283 : INFO : worker thread finished; awaiting finish of 0 more threads\n",
            "2021-05-24 00:03:37,285 : INFO : EPOCH - 9 : training on 442276 raw words (202904 effective words) took 2.5s, 81226 effective words/s\n",
            "2021-05-24 00:03:38,301 : INFO : EPOCH 10 - PROGRESS: at 40.55% examples, 81975 words/s, in_qsize 0, out_qsize 0\n",
            "2021-05-24 00:03:39,785 : INFO : worker thread finished; awaiting finish of 1 more threads\n",
            "2021-05-24 00:03:39,801 : INFO : worker thread finished; awaiting finish of 0 more threads\n",
            "2021-05-24 00:03:39,803 : INFO : EPOCH - 10 : training on 442276 raw words (203153 effective words) took 2.5s, 80968 effective words/s\n",
            "2021-05-24 00:03:40,839 : INFO : EPOCH 11 - PROGRESS: at 40.55% examples, 80392 words/s, in_qsize 0, out_qsize 0\n",
            "2021-05-24 00:03:42,332 : INFO : worker thread finished; awaiting finish of 1 more threads\n",
            "2021-05-24 00:03:42,346 : INFO : worker thread finished; awaiting finish of 0 more threads\n",
            "2021-05-24 00:03:42,348 : INFO : EPOCH - 11 : training on 442276 raw words (203365 effective words) took 2.5s, 80213 effective words/s\n",
            "2021-05-24 00:03:43,408 : INFO : EPOCH 12 - PROGRESS: at 38.07% examples, 74237 words/s, in_qsize 0, out_qsize 0\n",
            "2021-05-24 00:03:44,849 : INFO : worker thread finished; awaiting finish of 1 more threads\n",
            "2021-05-24 00:03:44,863 : INFO : worker thread finished; awaiting finish of 0 more threads\n",
            "2021-05-24 00:03:44,864 : INFO : EPOCH - 12 : training on 442276 raw words (203398 effective words) took 2.5s, 81133 effective words/s\n",
            "2021-05-24 00:03:45,931 : INFO : EPOCH 13 - PROGRESS: at 38.07% examples, 73673 words/s, in_qsize 0, out_qsize 0\n",
            "2021-05-24 00:03:47,468 : INFO : worker thread finished; awaiting finish of 1 more threads\n",
            "2021-05-24 00:03:47,477 : INFO : worker thread finished; awaiting finish of 0 more threads\n",
            "2021-05-24 00:03:47,478 : INFO : EPOCH - 13 : training on 442276 raw words (203040 effective words) took 2.6s, 77985 effective words/s\n",
            "2021-05-24 00:03:48,533 : INFO : EPOCH 14 - PROGRESS: at 43.12% examples, 83556 words/s, in_qsize 0, out_qsize 0\n",
            "2021-05-24 00:03:49,965 : INFO : worker thread finished; awaiting finish of 1 more threads\n",
            "2021-05-24 00:03:49,976 : INFO : worker thread finished; awaiting finish of 0 more threads\n",
            "2021-05-24 00:03:49,977 : INFO : EPOCH - 14 : training on 442276 raw words (203128 effective words) took 2.5s, 81599 effective words/s\n",
            "2021-05-24 00:03:50,989 : INFO : EPOCH 15 - PROGRESS: at 40.55% examples, 82330 words/s, in_qsize 0, out_qsize 0\n",
            "2021-05-24 00:03:52,484 : INFO : worker thread finished; awaiting finish of 1 more threads\n",
            "2021-05-24 00:03:52,500 : INFO : worker thread finished; awaiting finish of 0 more threads\n",
            "2021-05-24 00:03:52,501 : INFO : EPOCH - 15 : training on 442276 raw words (203412 effective words) took 2.5s, 80874 effective words/s\n",
            "2021-05-24 00:03:52,506 : INFO : training on a 6634140 raw words (3048129 effective words) took 38.2s, 79879 effective words/s\n"
          ],
          "name": "stderr"
        },
        {
          "output_type": "stream",
          "text": [
            "Time to train the model: 0.64 mins\n"
          ],
          "name": "stdout"
        }
      ]
    },
    {
      "cell_type": "markdown",
      "metadata": {
        "id": "EmT5rKUEwZ8q"
      },
      "source": [
        "Ahora entrenaremos el modelo ``FastText``.\n",
        "\n",
        "Primero lo inicializamos"
      ]
    },
    {
      "cell_type": "code",
      "metadata": {
        "id": "Y5r0qd9xwb-f"
      },
      "source": [
        "fast_text_model = FastText(size = 200, \n",
        "                           window = 3, \n",
        "                           min_count = 10)"
      ],
      "execution_count": null,
      "outputs": []
    },
    {
      "cell_type": "markdown",
      "metadata": {
        "id": "XofXoV78y5TW"
      },
      "source": [
        "Creamos el vocabulario"
      ]
    },
    {
      "cell_type": "code",
      "metadata": {
        "colab": {
          "base_uri": "https://localhost:8080/"
        },
        "id": "ong9jIbGy2tE",
        "outputId": "acaa0cda-ab95-4cb9-9022-eb89ddfab452"
      },
      "source": [
        "fast_text_model.build_vocab(sentences = sentences, progress_per = 40000)"
      ],
      "execution_count": null,
      "outputs": [
        {
          "output_type": "stream",
          "text": [
            "2021-05-24 00:03:52,524 : INFO : collecting all words and their counts\n",
            "2021-05-24 00:03:52,533 : INFO : PROGRESS: at sentence #0, processed 0 words, keeping 0 word types\n",
            "2021-05-24 00:03:53,118 : INFO : PROGRESS: at sentence #40000, processed 137471 words, keeping 27257 word types\n",
            "2021-05-24 00:03:53,690 : INFO : PROGRESS: at sentence #80000, processed 267551 words, keeping 41818 word types\n",
            "2021-05-24 00:03:54,283 : INFO : PROGRESS: at sentence #120000, processed 403504 words, keeping 54166 word types\n",
            "2021-05-24 00:03:54,453 : INFO : collected 56639 word types from a corpus of 442276 raw words and 131853 sentences\n",
            "2021-05-24 00:03:54,454 : INFO : Loading a fresh vocabulary\n",
            "2021-05-24 00:03:54,489 : INFO : effective_min_count=10 retains 6503 unique words (11% of original 56639, drops 50136)\n",
            "2021-05-24 00:03:54,490 : INFO : effective_min_count=10 leaves 337000 word corpus (76% of original 442276, drops 105276)\n",
            "2021-05-24 00:03:54,516 : INFO : deleting the raw counts dictionary of 56639 items\n",
            "2021-05-24 00:03:54,520 : INFO : sample=0.001 downsamples 23 most-common words\n",
            "2021-05-24 00:03:54,522 : INFO : downsampling leaves estimated 320791 word corpus (95.2% of prior 337000)\n",
            "2021-05-24 00:03:54,598 : INFO : estimated required memory for 6503 words, 48237 buckets and 200 dimensions: 53497604 bytes\n",
            "2021-05-24 00:03:54,602 : INFO : resetting layer weights\n",
            "2021-05-24 00:03:56,263 : INFO : Total number of ngrams is 48237\n"
          ],
          "name": "stderr"
        }
      ]
    },
    {
      "cell_type": "markdown",
      "metadata": {
        "id": "nhgNOv2zy6aK"
      },
      "source": [
        "Entrenamos el modelo"
      ]
    },
    {
      "cell_type": "code",
      "metadata": {
        "colab": {
          "base_uri": "https://localhost:8080/"
        },
        "id": "J95DpLFcy44F",
        "outputId": "7aa35e44-af1c-42ab-c9e6-50de583c248b"
      },
      "source": [
        "fast_text_model.train(sentences = sentences, total_examples = len(sentences), epochs=15)  "
      ],
      "execution_count": null,
      "outputs": [
        {
          "output_type": "stream",
          "text": [
            "2021-05-24 00:03:56,690 : INFO : training model with 3 workers on 6503 vocabulary and 200 features, using sg=0 hs=0 sample=0.001 negative=5 window=3\n",
            "2021-05-24 00:03:57,779 : INFO : EPOCH 1 - PROGRESS: at 33.30% examples, 101754 words/s, in_qsize 0, out_qsize 0\n",
            "2021-05-24 00:03:58,818 : INFO : EPOCH 1 - PROGRESS: at 70.07% examples, 106278 words/s, in_qsize 0, out_qsize 0\n",
            "2021-05-24 00:03:59,578 : INFO : worker thread finished; awaiting finish of 2 more threads\n",
            "2021-05-24 00:03:59,594 : INFO : worker thread finished; awaiting finish of 1 more threads\n",
            "2021-05-24 00:03:59,622 : INFO : worker thread finished; awaiting finish of 0 more threads\n",
            "2021-05-24 00:03:59,623 : INFO : EPOCH - 1 : training on 442276 raw words (320638 effective words) took 2.9s, 109823 effective words/s\n",
            "2021-05-24 00:04:00,645 : INFO : EPOCH 2 - PROGRESS: at 30.95% examples, 101140 words/s, in_qsize 0, out_qsize 0\n",
            "2021-05-24 00:04:01,716 : INFO : EPOCH 2 - PROGRESS: at 70.07% examples, 107926 words/s, in_qsize 0, out_qsize 0\n",
            "2021-05-24 00:04:02,573 : INFO : worker thread finished; awaiting finish of 2 more threads\n",
            "2021-05-24 00:04:02,590 : INFO : worker thread finished; awaiting finish of 1 more threads\n",
            "2021-05-24 00:04:02,610 : INFO : worker thread finished; awaiting finish of 0 more threads\n",
            "2021-05-24 00:04:02,611 : INFO : EPOCH - 2 : training on 442276 raw words (320818 effective words) took 3.0s, 107705 effective words/s\n",
            "2021-05-24 00:04:03,672 : INFO : EPOCH 3 - PROGRESS: at 35.62% examples, 111079 words/s, in_qsize 1, out_qsize 0\n",
            "2021-05-24 00:04:04,688 : INFO : EPOCH 3 - PROGRESS: at 72.33% examples, 112327 words/s, in_qsize 0, out_qsize 0\n",
            "2021-05-24 00:04:05,474 : INFO : worker thread finished; awaiting finish of 2 more threads\n",
            "2021-05-24 00:04:05,489 : INFO : worker thread finished; awaiting finish of 1 more threads\n",
            "2021-05-24 00:04:05,512 : INFO : worker thread finished; awaiting finish of 0 more threads\n",
            "2021-05-24 00:04:05,513 : INFO : EPOCH - 3 : training on 442276 raw words (320761 effective words) took 2.9s, 110947 effective words/s\n",
            "2021-05-24 00:04:06,547 : INFO : EPOCH 4 - PROGRESS: at 35.62% examples, 113910 words/s, in_qsize 0, out_qsize 0\n",
            "2021-05-24 00:04:07,614 : INFO : EPOCH 4 - PROGRESS: at 70.07% examples, 107507 words/s, in_qsize 0, out_qsize 0\n",
            "2021-05-24 00:04:08,367 : INFO : worker thread finished; awaiting finish of 2 more threads\n",
            "2021-05-24 00:04:08,387 : INFO : worker thread finished; awaiting finish of 1 more threads\n",
            "2021-05-24 00:04:08,406 : INFO : worker thread finished; awaiting finish of 0 more threads\n",
            "2021-05-24 00:04:08,407 : INFO : EPOCH - 4 : training on 442276 raw words (320789 effective words) took 2.9s, 111211 effective words/s\n",
            "2021-05-24 00:04:09,428 : INFO : EPOCH 5 - PROGRESS: at 35.62% examples, 115305 words/s, in_qsize 0, out_qsize 0\n",
            "2021-05-24 00:04:10,493 : INFO : EPOCH 5 - PROGRESS: at 70.07% examples, 108288 words/s, in_qsize 0, out_qsize 0\n",
            "2021-05-24 00:04:11,239 : INFO : worker thread finished; awaiting finish of 2 more threads\n",
            "2021-05-24 00:04:11,253 : INFO : worker thread finished; awaiting finish of 1 more threads\n",
            "2021-05-24 00:04:11,275 : INFO : worker thread finished; awaiting finish of 0 more threads\n",
            "2021-05-24 00:04:11,276 : INFO : EPOCH - 5 : training on 442276 raw words (320871 effective words) took 2.9s, 112206 effective words/s\n",
            "2021-05-24 00:04:12,347 : INFO : EPOCH 6 - PROGRESS: at 35.62% examples, 110246 words/s, in_qsize 0, out_qsize 0\n",
            "2021-05-24 00:04:13,349 : INFO : EPOCH 6 - PROGRESS: at 70.07% examples, 109124 words/s, in_qsize 0, out_qsize 0\n",
            "2021-05-24 00:04:14,115 : INFO : worker thread finished; awaiting finish of 2 more threads\n",
            "2021-05-24 00:04:14,141 : INFO : worker thread finished; awaiting finish of 1 more threads\n",
            "2021-05-24 00:04:14,149 : INFO : worker thread finished; awaiting finish of 0 more threads\n",
            "2021-05-24 00:04:14,150 : INFO : EPOCH - 6 : training on 442276 raw words (320869 effective words) took 2.9s, 112133 effective words/s\n",
            "2021-05-24 00:04:15,191 : INFO : EPOCH 7 - PROGRESS: at 30.95% examples, 99309 words/s, in_qsize 0, out_qsize 0\n",
            "2021-05-24 00:04:16,248 : INFO : EPOCH 7 - PROGRESS: at 70.07% examples, 107689 words/s, in_qsize 0, out_qsize 0\n",
            "2021-05-24 00:04:17,007 : INFO : worker thread finished; awaiting finish of 2 more threads\n",
            "2021-05-24 00:04:17,018 : INFO : worker thread finished; awaiting finish of 1 more threads\n",
            "2021-05-24 00:04:17,041 : INFO : worker thread finished; awaiting finish of 0 more threads\n",
            "2021-05-24 00:04:17,043 : INFO : EPOCH - 7 : training on 442276 raw words (320830 effective words) took 2.9s, 111281 effective words/s\n",
            "2021-05-24 00:04:18,064 : INFO : EPOCH 8 - PROGRESS: at 30.95% examples, 101083 words/s, in_qsize 0, out_qsize 0\n",
            "2021-05-24 00:04:19,126 : INFO : EPOCH 8 - PROGRESS: at 70.07% examples, 108354 words/s, in_qsize 0, out_qsize 0\n",
            "2021-05-24 00:04:19,873 : INFO : worker thread finished; awaiting finish of 2 more threads\n",
            "2021-05-24 00:04:19,890 : INFO : worker thread finished; awaiting finish of 1 more threads\n",
            "2021-05-24 00:04:19,901 : INFO : worker thread finished; awaiting finish of 0 more threads\n",
            "2021-05-24 00:04:19,902 : INFO : EPOCH - 8 : training on 442276 raw words (320709 effective words) took 2.9s, 112505 effective words/s\n",
            "2021-05-24 00:04:20,919 : INFO : EPOCH 9 - PROGRESS: at 30.95% examples, 101683 words/s, in_qsize 0, out_qsize 0\n",
            "2021-05-24 00:04:21,983 : INFO : EPOCH 9 - PROGRESS: at 70.07% examples, 108571 words/s, in_qsize 0, out_qsize 0\n",
            "2021-05-24 00:04:22,822 : INFO : worker thread finished; awaiting finish of 2 more threads\n",
            "2021-05-24 00:04:22,842 : INFO : worker thread finished; awaiting finish of 1 more threads\n",
            "2021-05-24 00:04:22,864 : INFO : worker thread finished; awaiting finish of 0 more threads\n",
            "2021-05-24 00:04:22,865 : INFO : EPOCH - 9 : training on 442276 raw words (320718 effective words) took 3.0s, 108597 effective words/s\n",
            "2021-05-24 00:04:23,932 : INFO : EPOCH 10 - PROGRESS: at 35.62% examples, 110369 words/s, in_qsize 0, out_qsize 0\n",
            "2021-05-24 00:04:24,981 : INFO : EPOCH 10 - PROGRESS: at 74.57% examples, 113601 words/s, in_qsize 0, out_qsize 0\n",
            "2021-05-24 00:04:25,720 : INFO : worker thread finished; awaiting finish of 2 more threads\n",
            "2021-05-24 00:04:25,739 : INFO : worker thread finished; awaiting finish of 1 more threads\n",
            "2021-05-24 00:04:25,755 : INFO : worker thread finished; awaiting finish of 0 more threads\n",
            "2021-05-24 00:04:25,757 : INFO : EPOCH - 10 : training on 442276 raw words (320784 effective words) took 2.9s, 111303 effective words/s\n",
            "2021-05-24 00:04:26,790 : INFO : EPOCH 11 - PROGRESS: at 35.62% examples, 114080 words/s, in_qsize 1, out_qsize 0\n",
            "2021-05-24 00:04:27,833 : INFO : EPOCH 11 - PROGRESS: at 70.07% examples, 108800 words/s, in_qsize 0, out_qsize 0\n",
            "2021-05-24 00:04:28,585 : INFO : worker thread finished; awaiting finish of 2 more threads\n",
            "2021-05-24 00:04:28,601 : INFO : worker thread finished; awaiting finish of 1 more threads\n",
            "2021-05-24 00:04:28,619 : INFO : worker thread finished; awaiting finish of 0 more threads\n",
            "2021-05-24 00:04:28,620 : INFO : EPOCH - 11 : training on 442276 raw words (320809 effective words) took 2.9s, 112449 effective words/s\n",
            "2021-05-24 00:04:29,677 : INFO : EPOCH 12 - PROGRESS: at 35.62% examples, 111388 words/s, in_qsize 0, out_qsize 0\n",
            "2021-05-24 00:04:30,680 : INFO : EPOCH 12 - PROGRESS: at 67.82% examples, 106118 words/s, in_qsize 0, out_qsize 0\n",
            "2021-05-24 00:04:31,470 : INFO : worker thread finished; awaiting finish of 2 more threads\n",
            "2021-05-24 00:04:31,490 : INFO : worker thread finished; awaiting finish of 1 more threads\n",
            "2021-05-24 00:04:31,511 : INFO : worker thread finished; awaiting finish of 0 more threads\n",
            "2021-05-24 00:04:31,512 : INFO : EPOCH - 12 : training on 442276 raw words (320926 effective words) took 2.9s, 111310 effective words/s\n",
            "2021-05-24 00:04:32,533 : INFO : EPOCH 13 - PROGRESS: at 30.95% examples, 101103 words/s, in_qsize 0, out_qsize 0\n",
            "2021-05-24 00:04:33,536 : INFO : EPOCH 13 - PROGRESS: at 67.82% examples, 107905 words/s, in_qsize 0, out_qsize 0\n",
            "2021-05-24 00:04:34,353 : INFO : worker thread finished; awaiting finish of 2 more threads\n",
            "2021-05-24 00:04:34,372 : INFO : worker thread finished; awaiting finish of 1 more threads\n",
            "2021-05-24 00:04:34,394 : INFO : worker thread finished; awaiting finish of 0 more threads\n",
            "2021-05-24 00:04:34,395 : INFO : EPOCH - 13 : training on 442276 raw words (320641 effective words) took 2.9s, 111575 effective words/s\n",
            "2021-05-24 00:04:35,443 : INFO : EPOCH 14 - PROGRESS: at 30.95% examples, 98727 words/s, in_qsize 0, out_qsize 0\n",
            "2021-05-24 00:04:36,474 : INFO : EPOCH 14 - PROGRESS: at 70.07% examples, 108740 words/s, in_qsize 0, out_qsize 0\n",
            "2021-05-24 00:04:37,320 : INFO : worker thread finished; awaiting finish of 2 more threads\n",
            "2021-05-24 00:04:37,340 : INFO : worker thread finished; awaiting finish of 1 more threads\n",
            "2021-05-24 00:04:37,357 : INFO : worker thread finished; awaiting finish of 0 more threads\n",
            "2021-05-24 00:04:37,359 : INFO : EPOCH - 14 : training on 442276 raw words (320751 effective words) took 3.0s, 108657 effective words/s\n",
            "2021-05-24 00:04:38,392 : INFO : EPOCH 15 - PROGRESS: at 35.62% examples, 114053 words/s, in_qsize 0, out_qsize 0\n",
            "2021-05-24 00:04:39,398 : INFO : EPOCH 15 - PROGRESS: at 72.33% examples, 114426 words/s, in_qsize 0, out_qsize 0\n",
            "2021-05-24 00:04:40,177 : INFO : worker thread finished; awaiting finish of 2 more threads\n",
            "2021-05-24 00:04:40,197 : INFO : worker thread finished; awaiting finish of 1 more threads\n",
            "2021-05-24 00:04:40,217 : INFO : worker thread finished; awaiting finish of 0 more threads\n",
            "2021-05-24 00:04:40,218 : INFO : EPOCH - 15 : training on 442276 raw words (320912 effective words) took 2.8s, 112640 effective words/s\n",
            "2021-05-24 00:04:40,220 : INFO : training on a 6634140 raw words (4811826 effective words) took 43.5s, 110552 effective words/s\n"
          ],
          "name": "stderr"
        }
      ]
    },
    {
      "cell_type": "markdown",
      "metadata": {
        "id": "-Lr8U5wOTNcr"
      },
      "source": [
        "**Pregunta 2**: Encuentre las palabras mas similares a las siguientes: Lisa, Bart, Homer, Marge. Cúal es la diferencia entre ambos resultados? Por qué ocurre esto? Intente comparar ahora Liisa en ambos modelos (doble i). Cuando escogería uno vs el otro? **(0.5 puntos)**"
      ]
    },
    {
      "cell_type": "markdown",
      "metadata": {
        "id": "yMLyGffVTNcs"
      },
      "source": [
        "**Respuesta**:\n",
        "\n",
        "Primero se debe entender el fundamento de FastText, la idea central del modelo FastText es obtener información sobre la estructura morfológica de las palabras, es por esto que se trata cada palabra como una \"suma\" de los caracteres que componen la palabra. Es así como la diferencia que se observa es que en Word2Vec se obtienen palabras relacionadas en base al contexto, pues el modelo trabaja en base a las palabras vecinas de una palabra central y en FastText se obtienen diferentes morfemas posibles respecto a una cierta palabra.\n",
        "\n",
        "Dicho lo anterior, Word2Vec es más util para tareas de semántica, vale decir, donde importa el contexto de las oraciones y FastText funciona mejor para obtener información respecto a la sintáctica de las oraciones. Una ventaja de FastText es que puede obtener vectores de palabras fuera del vocabulario, a diferencia de Word2Vec que queda limitado en ese aspecto. En conclusión utilizaría Word2Vec en tareas en las cuales me importe más el contexto que las palabras por si solas y FastText cuando me importa obtener información respecto a las palabras en particular, sus conjugaciones, etc.\n"
      ]
    },
    {
      "cell_type": "code",
      "metadata": {
        "colab": {
          "base_uri": "https://localhost:8080/"
        },
        "id": "0RlMMrUN2mgw",
        "outputId": "24ea43b2-0696-4602-845a-c8dc05dda993"
      },
      "source": [
        "words = [\"Lisa\",\"Bart\",\"Homer\",\"Marge\"]\n",
        "print(\"\\t\\tWord2Vec\\t\\tFastText\")\n",
        "for w in words:\n",
        "    print(\"\\nMost similar to: \",w,\"\\n\")\n",
        "    for i,j in zip(simpsons_w2v.wv.most_similar(positive = [w]), fast_text_model.wv.most_similar(positive = [w]) ):\n",
        "        print(i,\"\\t\",j)"
      ],
      "execution_count": null,
      "outputs": [
        {
          "output_type": "stream",
          "text": [
            "\t\tWord2Vec\t\tFastText\n",
            "\n",
            "Most similar to:  Lisa \n",
            "\n",
            "('Dad', 0.998372495174408) \t ('Bart', 0.9188904762268066)\n",
            "('Bart', 0.9983237981796265) \t ('Lisas', 0.9064152240753174)\n",
            "('Simpson', 0.9983171224594116) \t ('Bartholomew', 0.8644261360168457)\n",
            "('lot', 0.9981842041015625) \t ('Lis', 0.8587274551391602)\n",
            "('family', 0.9981131553649902) \t ('Bartdude', 0.8365437984466553)\n",
            "('father', 0.9980586171150208) \t ('Abe', 0.8341927528381348)\n",
            "('Marge', 0.9980097413063049) \t ('Lie', 0.808086633682251)\n",
            "('worry', 0.997908353805542) \t ('Barts', 0.7899550795555115)\n",
            "('life', 0.997888445854187) \t ('Abraham', 0.788038969039917)\n",
            "('bring', 0.997847855091095) \t ('teacher', 0.7526736259460449)\n",
            "\n",
            "Most similar to:  Bart \n",
            "\n",
            "('Marge', 0.9983499050140381) \t ('Lisa', 0.9188905358314514)\n",
            "('Lisa', 0.9983237981796265) \t ('Bartdude', 0.8770356178283691)\n",
            "('kids', 0.9982669353485107) \t ('Bartholomew', 0.8563717603683472)\n",
            "('father', 0.9981797933578491) \t ('Lisas', 0.842789888381958)\n",
            "('Dad', 0.9980261921882629) \t ('Barts', 0.825104832649231)\n",
            "('lot', 0.9980040788650513) \t ('Lis', 0.8173711895942688)\n",
            "('worry', 0.9978828430175781) \t ('Lie', 0.7871814966201782)\n",
            "('start', 0.9978600740432739) \t ('Mozart', 0.7791647911071777)\n",
            "('feel', 0.9977989792823792) \t ('Abe', 0.7617892622947693)\n",
            "('money', 0.9977981448173523) \t ('fart', 0.7582053542137146)\n",
            "\n",
            "Most similar to:  Homer \n",
            "\n",
            "('bar', 0.9976303577423096) \t ('Homey', 0.8906429409980774)\n",
            "('catch', 0.9976276159286499) \t ('Homers', 0.8559696674346924)\n",
            "('drunk', 0.9976089000701904) \t ('customer', 0.7418010234832764)\n",
            "('chance', 0.9976027011871338) \t ('wife', 0.6979435682296753)\n",
            "('gotta', 0.9975478649139404) \t ('Apu', 0.6872175931930542)\n",
            "('kill', 0.9975389838218689) \t ('Karl', 0.6592512130737305)\n",
            "('easy', 0.9974538087844849) \t ('Holy', 0.6518080830574036)\n",
            "('promise', 0.9974013566970825) \t ('Howd', 0.6503973007202148)\n",
            "('lady', 0.9972798824310303) \t ('Earl', 0.6493241786956787)\n",
            "('dump', 0.9971225261688232) \t ('Burnsie', 0.6398080587387085)\n",
            "\n",
            "Most similar to:  Marge \n",
            "\n",
            "('Bart', 0.9983499050140381) \t ('Marges', 0.9120956659317017)\n",
            "('lot', 0.9981319904327393) \t ('Abe', 0.7655723690986633)\n",
            "('Lisa', 0.9980097413063049) \t ('husband', 0.7448709607124329)\n",
            "('kids', 0.9979574084281921) \t ('Marco', 0.7230297327041626)\n",
            "('gonna', 0.9979068040847778) \t ('Marjorie', 0.706255316734314)\n",
            "('father', 0.9976879358291626) \t ('husbands', 0.7024131417274475)\n",
            "('Dad', 0.9976857900619507) \t ('Life', 0.6921296119689941)\n",
            "('family', 0.9976688027381897) \t ('wife', 0.6759129762649536)\n",
            "('feel', 0.9976412057876587) \t ('Apu', 0.6736208200454712)\n",
            "('happy', 0.9975836873054504) \t ('gorge', 0.6715636253356934)\n"
          ],
          "name": "stdout"
        }
      ]
    },
    {
      "cell_type": "code",
      "metadata": {
        "colab": {
          "base_uri": "https://localhost:8080/"
        },
        "id": "BCiKUk-hrwPS",
        "outputId": "0c776862-d0af-4ba1-be98-82c7dad44661"
      },
      "source": [
        "try:\n",
        "    simpsons_w2v.wv.most_similar(positive = [\"Liisa\"])\n",
        "except:\n",
        "    print(\"Palabra no encontrada\")"
      ],
      "execution_count": null,
      "outputs": [
        {
          "output_type": "stream",
          "text": [
            "Palabra no encontrada\n"
          ],
          "name": "stdout"
        }
      ]
    },
    {
      "cell_type": "code",
      "metadata": {
        "id": "1afYdw_ssXiv"
      },
      "source": [
        "try:\n",
        "    fast_text_model.wv.most_similar(positive = [\"Liisa\"])\n",
        "except:\n",
        "    print(\"Palabra no encontrada\")"
      ],
      "execution_count": null,
      "outputs": []
    },
    {
      "cell_type": "markdown",
      "metadata": {
        "id": "vJaqN_9rmqiD"
      },
      "source": [
        "Liisa no se encuentra en el vocabulario del modelo Word2Vec. Lo cual es esperable, ya que Word2Vec no generaliza palabras y sólo quedan las del vocabulario, en cambio FastText puede hacer parecer nuevas palabras ya que las trabaja como un todo y sus caracteres importan porque se consideran los n-gramas de las palabras."
      ]
    },
    {
      "cell_type": "markdown",
      "metadata": {
        "id": "IRCB-jqgTNcs"
      },
      "source": [
        "### **Parte 4: Aplicar embeddings para clasificar**"
      ]
    },
    {
      "cell_type": "markdown",
      "metadata": {
        "id": "zlqzlJRSTNcs"
      },
      "source": [
        "Ahora utilizaremos los embeddings que acabamos de calcular para clasificar palabras basadas en su polaridad (positivas o negativas). \n",
        "\n",
        "Para esto ocuparemos el lexicón AFINN incluido en la tarea, que incluye una lista de palabras y un 1 si su connotación es positiva y un -1 si es negativa."
      ]
    },
    {
      "cell_type": "code",
      "metadata": {
        "id": "CMskFDmHTNcs"
      },
      "source": [
        "AFINN = 'AFINN_full.csv'\n",
        "df_afinn = pd.read_csv(AFINN, sep='\\t', header=None)"
      ],
      "execution_count": null,
      "outputs": []
    },
    {
      "cell_type": "markdown",
      "metadata": {
        "id": "uaKl8hsCTNcs"
      },
      "source": [
        "Hint: Para w2v son esperables KeyErrors debido a que no todas las palabras del corpus de los simpsons tendrán una representación en AFINN. Pueden utilizar esta función auxiliar para filtrar las filas en el dataframe que no tienen embeddings (como w2v no tiene token UNK se deben ignorar)."
      ]
    },
    {
      "cell_type": "code",
      "metadata": {
        "id": "tWSSuctiTNcs"
      },
      "source": [
        "def try_apply(model,word):\n",
        "    try:\n",
        "        aux = model[word]\n",
        "        return True\n",
        "    except KeyError:\n",
        "        #logger.error('Word {} not in dictionary'.format(word))\n",
        "        return False"
      ],
      "execution_count": null,
      "outputs": []
    },
    {
      "cell_type": "markdown",
      "metadata": {
        "id": "LrVPeEzgTNcs"
      },
      "source": [
        "**Pregunta 1**: Transforme las palabras del corpus de AFINN a la representación en embedding que acabamos de calcular (con ambos modelos). \n",
        "\n",
        "Su dataframe final debe ser del estilo [embedding, sentimiento], donde los embeddings corresponden a $X$ y el sentimiento asociado con el embedding a $y$ (positivo/negativo, 1/-1). \n",
        "\n",
        "Para ambos modelos, separar train y test de acuerdo a la siguiente función. **(0.75 puntos)**"
      ]
    },
    {
      "cell_type": "markdown",
      "metadata": {
        "id": "iDcq5czXTNct"
      },
      "source": [
        "**Respuesta**:"
      ]
    },
    {
      "cell_type": "code",
      "metadata": {
        "id": "Qf4_HQa-jZfN"
      },
      "source": [
        "X_w2v_ = []\n",
        "y_w2v_ = []\n",
        "X_ft_ = []\n",
        "y_ft_ = []\n",
        "for i in range(df_afinn.shape[0]):\n",
        "    word = df_afinn.iloc[i,0]\n",
        "    sentiment = df_afinn.iloc[i,1]\n",
        "    if try_apply(simpsons_w2v.wv, word): \n",
        "        X_w2v_.append(simpsons_w2v.wv[word]) #Agregamos el embedding del modelo W2V si está en el voc\n",
        "        y_w2v_.append(sentiment)\n",
        "    if try_apply(fast_text_model.wv, word):\n",
        "        X_ft_.append(fast_text_model.wv[word]) #Agregamos el embedding del modelo FastText\n",
        "        y_ft_.append(sentiment)\n",
        "X_w2v = pd.DataFrame({\"w2v\":X_w2v_,\"Sentiment\":y_w2v_})\n",
        "X_ft = pd.DataFrame({\"ft\":X_ft_,\"Sentiment\":y_ft_})"
      ],
      "execution_count": null,
      "outputs": []
    },
    {
      "cell_type": "code",
      "metadata": {
        "colab": {
          "base_uri": "https://localhost:8080/",
          "height": 204
        },
        "id": "s1mSyHpplAvT",
        "outputId": "a419f15a-3b07-4043-96af-962b912e3e97"
      },
      "source": [
        "X_w2v.head()"
      ],
      "execution_count": null,
      "outputs": [
        {
          "output_type": "execute_result",
          "data": {
            "text/html": [
              "<div>\n",
              "<style scoped>\n",
              "    .dataframe tbody tr th:only-of-type {\n",
              "        vertical-align: middle;\n",
              "    }\n",
              "\n",
              "    .dataframe tbody tr th {\n",
              "        vertical-align: top;\n",
              "    }\n",
              "\n",
              "    .dataframe thead th {\n",
              "        text-align: right;\n",
              "    }\n",
              "</style>\n",
              "<table border=\"1\" class=\"dataframe\">\n",
              "  <thead>\n",
              "    <tr style=\"text-align: right;\">\n",
              "      <th></th>\n",
              "      <th>w2v</th>\n",
              "      <th>Sentiment</th>\n",
              "    </tr>\n",
              "  </thead>\n",
              "  <tbody>\n",
              "    <tr>\n",
              "      <th>0</th>\n",
              "      <td>[-0.06432431, 0.29449773, 0.030400103, 0.18478...</td>\n",
              "      <td>1</td>\n",
              "    </tr>\n",
              "    <tr>\n",
              "      <th>1</th>\n",
              "      <td>[-0.06616183, 0.28385073, 0.024749571, 0.17422...</td>\n",
              "      <td>-1</td>\n",
              "    </tr>\n",
              "    <tr>\n",
              "      <th>2</th>\n",
              "      <td>[-0.060051084, 0.29936862, 0.027454456, 0.1814...</td>\n",
              "      <td>-1</td>\n",
              "    </tr>\n",
              "    <tr>\n",
              "      <th>3</th>\n",
              "      <td>[-0.05731271, 0.2945398, 0.027980272, 0.193041...</td>\n",
              "      <td>1</td>\n",
              "    </tr>\n",
              "    <tr>\n",
              "      <th>4</th>\n",
              "      <td>[-0.062212, 0.29446954, 0.019557873, 0.1714464...</td>\n",
              "      <td>1</td>\n",
              "    </tr>\n",
              "  </tbody>\n",
              "</table>\n",
              "</div>"
            ],
            "text/plain": [
              "                                                 w2v  Sentiment\n",
              "0  [-0.06432431, 0.29449773, 0.030400103, 0.18478...          1\n",
              "1  [-0.06616183, 0.28385073, 0.024749571, 0.17422...         -1\n",
              "2  [-0.060051084, 0.29936862, 0.027454456, 0.1814...         -1\n",
              "3  [-0.05731271, 0.2945398, 0.027980272, 0.193041...          1\n",
              "4  [-0.062212, 0.29446954, 0.019557873, 0.1714464...          1"
            ]
          },
          "metadata": {
            "tags": []
          },
          "execution_count": 41
        }
      ]
    },
    {
      "cell_type": "code",
      "metadata": {
        "colab": {
          "base_uri": "https://localhost:8080/",
          "height": 204
        },
        "id": "BvMcxb7tp89m",
        "outputId": "6225d601-d6fd-4843-b2c3-f9988c08c8eb"
      },
      "source": [
        "X_ft.head()"
      ],
      "execution_count": null,
      "outputs": [
        {
          "output_type": "execute_result",
          "data": {
            "text/html": [
              "<div>\n",
              "<style scoped>\n",
              "    .dataframe tbody tr th:only-of-type {\n",
              "        vertical-align: middle;\n",
              "    }\n",
              "\n",
              "    .dataframe tbody tr th {\n",
              "        vertical-align: top;\n",
              "    }\n",
              "\n",
              "    .dataframe thead th {\n",
              "        text-align: right;\n",
              "    }\n",
              "</style>\n",
              "<table border=\"1\" class=\"dataframe\">\n",
              "  <thead>\n",
              "    <tr style=\"text-align: right;\">\n",
              "      <th></th>\n",
              "      <th>ft</th>\n",
              "      <th>Sentiment</th>\n",
              "    </tr>\n",
              "  </thead>\n",
              "  <tbody>\n",
              "    <tr>\n",
              "      <th>0</th>\n",
              "      <td>[-0.2128471, -0.08395048, -0.060172234, -0.043...</td>\n",
              "      <td>1</td>\n",
              "    </tr>\n",
              "    <tr>\n",
              "      <th>1</th>\n",
              "      <td>[-0.22398695, -0.034440227, 0.23532891, -0.349...</td>\n",
              "      <td>-1</td>\n",
              "    </tr>\n",
              "    <tr>\n",
              "      <th>2</th>\n",
              "      <td>[0.09618096, -0.09239344, 0.28590533, -0.15718...</td>\n",
              "      <td>1</td>\n",
              "    </tr>\n",
              "    <tr>\n",
              "      <th>3</th>\n",
              "      <td>[0.0035256164, 0.019913897, 0.25987774, -0.089...</td>\n",
              "      <td>-1</td>\n",
              "    </tr>\n",
              "    <tr>\n",
              "      <th>4</th>\n",
              "      <td>[-0.22593187, -0.017979816, 0.56861055, -0.012...</td>\n",
              "      <td>1</td>\n",
              "    </tr>\n",
              "  </tbody>\n",
              "</table>\n",
              "</div>"
            ],
            "text/plain": [
              "                                                  ft  Sentiment\n",
              "0  [-0.2128471, -0.08395048, -0.060172234, -0.043...          1\n",
              "1  [-0.22398695, -0.034440227, 0.23532891, -0.349...         -1\n",
              "2  [0.09618096, -0.09239344, 0.28590533, -0.15718...          1\n",
              "3  [0.0035256164, 0.019913897, 0.25987774, -0.089...         -1\n",
              "4  [-0.22593187, -0.017979816, 0.56861055, -0.012...          1"
            ]
          },
          "metadata": {
            "tags": []
          },
          "execution_count": 49
        }
      ]
    },
    {
      "cell_type": "markdown",
      "metadata": {
        "id": "2qyzIj2Xq-Ah"
      },
      "source": [
        "Separamos en train y test para ambos modelos"
      ]
    },
    {
      "cell_type": "code",
      "metadata": {
        "id": "7LU5RzviadWZ"
      },
      "source": [
        "X_train_w2v, X_test_w2v, y_train_w2v, y_test_w2v = train_test_split(X_w2v_, y_w2v_, random_state=0, test_size=0.1, stratify=y_w2v_)\n",
        "X_train_ft, X_test_ft, y_train_ft, y_test_ft = train_test_split(X_ft_, y_ft_, random_state=0, test_size=0.1, stratify=y_ft_)"
      ],
      "execution_count": null,
      "outputs": []
    },
    {
      "cell_type": "markdown",
      "metadata": {
        "id": "kDKe4gA3TNct"
      },
      "source": [
        "**Pregunta 2**: Entrenar una regresión logística (vista en auxiliar) y reportar accuracy, precision, recall, f1 y confusion_matrix para ambos modelos. Por qué se obtienen estos resultados? Cómo los mejorarías? **(0.75 puntos)**"
      ]
    },
    {
      "cell_type": "code",
      "metadata": {
        "colab": {
          "base_uri": "https://localhost:8080/",
          "height": 1000
        },
        "id": "Zw0eSGoSc0Sj",
        "outputId": "3737208b-a231-4f1d-db65-fc202ec34a0a"
      },
      "source": [
        "#Logistic Regression\n",
        "clf = linear_model.LogisticRegression(max_iter = 1000000)\n",
        "\n",
        "models = {\"Word2Vec\":(X_train_w2v, X_test_w2v, y_train_w2v, y_test_w2v),\"FastText\":(X_train_ft, X_test_ft, y_train_ft, y_test_ft)}\n",
        "\n",
        "for model in models.keys():\n",
        "    X_train, X_test, y_train, y_test = models[model]\n",
        "    clf.fit(X_train, y_train)\n",
        "    y_pred = clf.predict(X_test)\n",
        "    print(80*\"-\")\n",
        "    print(\"Resultados para: \", model) \n",
        "    g = sns.heatmap(confusion_matrix(y_test, y_pred), annot=True, cmap=\"Blues\", fmt = \"d\", yticklabels=[\"-1\",\"1\"])\n",
        "    g.set_yticklabels(g.get_yticklabels(), rotation = 0)\n",
        "    plt.title('Confusion matrix: {} \\n'.format(model))\n",
        "    plt.xlabel('Predicted label')\n",
        "    plt.ylabel('True label');   \n",
        "    plt.show()\n",
        "    print(classification_report(y_test, y_pred)) \n",
        "    print(80*\"-\",\"\\n\\n\")"
      ],
      "execution_count": null,
      "outputs": [
        {
          "output_type": "stream",
          "text": [
            "--------------------------------------------------------------------------------\n",
            "Resultados para:  Word2Vec\n"
          ],
          "name": "stdout"
        },
        {
          "output_type": "display_data",
          "data": {
            "image/png": "[encoded data removed]",
            "text/plain": [
              "<Figure size 432x288 with 2 Axes>"
            ]
          },
          "metadata": {
            "tags": [],
            "needs_background": "light"
          }
        },
        {
          "output_type": "stream",
          "text": [
            "/usr/local/lib/python3.7/dist-packages/sklearn/metrics/_classification.py:1272: UndefinedMetricWarning: Precision and F-score are ill-defined and being set to 0.0 in labels with no predicted samples. Use `zero_division` parameter to control this behavior.\n",
            "  _warn_prf(average, modifier, msg_start, len(result))\n"
          ],
          "name": "stderr"
        },
        {
          "output_type": "stream",
          "text": [
            "              precision    recall  f1-score   support\n",
            "\n",
            "          -1       0.58      1.00      0.74        50\n",
            "           1       0.00      0.00      0.00        36\n",
            "\n",
            "    accuracy                           0.58        86\n",
            "   macro avg       0.29      0.50      0.37        86\n",
            "weighted avg       0.34      0.58      0.43        86\n",
            "\n",
            "-------------------------------------------------------------------------------- \n",
            "\n",
            "\n",
            "--------------------------------------------------------------------------------\n",
            "Resultados para:  FastText\n"
          ],
          "name": "stdout"
        },
        {
          "output_type": "display_data",
          "data": {
            "image/png": "[encoded data removed]",
            "text/plain": [
              "<Figure size 432x288 with 2 Axes>"
            ]
          },
          "metadata": {
            "tags": [],
            "needs_background": "light"
          }
        },
        {
          "output_type": "stream",
          "text": [
            "              precision    recall  f1-score   support\n",
            "\n",
            "          -1       0.68      0.92      0.78       221\n",
            "           1       0.54      0.17      0.26       117\n",
            "\n",
            "    accuracy                           0.66       338\n",
            "   macro avg       0.61      0.55      0.52       338\n",
            "weighted avg       0.63      0.66      0.60       338\n",
            "\n",
            "-------------------------------------------------------------------------------- \n",
            "\n",
            "\n"
          ],
          "name": "stdout"
        }
      ]
    },
    {
      "cell_type": "markdown",
      "metadata": {
        "id": "hJMzq_dETNct"
      },
      "source": [
        "**Respuesta**: \n",
        "\n",
        "Se puede notar que al utilizar el modelo w2v disminuye notablemente la matriz de entrenamiento, ya que se omitieron aquellas palabras del lexicon que no están presentes en el vocabulario del modelo entrenado, esto puede ayudar explicar en parte los peores resultados respecto a FastText, quien contiene mayor cantidad de vocabulario al considerar los n-gramas de caracteres de las palabras.\n",
        "\n",
        "Para mejorar los resultados se podría variar los parámetros al entrenar los modelos de embeddings, como el tamaño de la ventana k, cantidad de neuronas, etc. Incluso se podrían considerar aquellas palabras que no contienen embeddings por no estar en el vocabulario agregando un vector de ceros."
      ]
    },
    {
      "cell_type": "markdown",
      "metadata": {
        "id": "izppruGQTNct"
      },
      "source": [
        "# Bonus: +0.25 puntos en cualquier pregunta"
      ]
    },
    {
      "cell_type": "markdown",
      "metadata": {
        "id": "YW0aeK2KTNct"
      },
      "source": [
        "**Pregunta 1**: Replicar la parte anterior utilizando embeddings pre-entrenados en un dataset más grande y obtener mejores resultados. Les puede servir [ésta](https://radimrehurek.com/gensim/downloader.html#module-gensim.downloader) documentacion de gensim **(0.25 puntos)**."
      ]
    },
    {
      "cell_type": "markdown",
      "metadata": {
        "id": "qvHcVS3sTNct"
      },
      "source": [
        "**Respuesta**:"
      ]
    },
    {
      "cell_type": "code",
      "metadata": {
        "colab": {
          "base_uri": "https://localhost:8080/"
        },
        "id": "gIzPRVoGuWW5",
        "outputId": "9ab6746e-8708-4db4-ac4f-6d6b5a99980c"
      },
      "source": [
        "import gensim.downloader\n",
        "print(list(gensim.downloader.info()['models'].keys()))"
      ],
      "execution_count": null,
      "outputs": [
        {
          "output_type": "stream",
          "text": [
            "['fasttext-wiki-news-subwords-300', 'conceptnet-numberbatch-17-06-300', 'word2vec-ruscorpora-300', 'word2vec-google-news-300', 'glove-wiki-gigaword-50', 'glove-wiki-gigaword-100', 'glove-wiki-gigaword-200', 'glove-wiki-gigaword-300', 'glove-twitter-25', 'glove-twitter-50', 'glove-twitter-100', 'glove-twitter-200', '__testing_word2vec-matrix-synopsis']\n"
          ],
          "name": "stdout"
        }
      ]
    },
    {
      "cell_type": "markdown",
      "metadata": {
        "id": "uuofLgrlmG2a"
      },
      "source": [
        "Descargamos los modelos pre-entrenados"
      ]
    },
    {
      "cell_type": "code",
      "metadata": {
        "colab": {
          "base_uri": "https://localhost:8080/"
        },
        "id": "ekvkUp2rujaM",
        "outputId": "baaa9ffb-f9a5-48c4-f85a-77fd95e6792e"
      },
      "source": [
        "import gensim.downloader as api\n",
        "\n",
        "model_w2v = api.load(\"word2vec-google-news-300\")  \n",
        "model_ft = api.load(\"fasttext-wiki-news-subwords-300\")  "
      ],
      "execution_count": null,
      "outputs": [
        {
          "output_type": "stream",
          "text": [
            "2021-05-22 19:38:30,086 : INFO : loading projection weights from /root/gensim-data/word2vec-google-news-300/word2vec-google-news-300.gz\n",
            "2021-05-22 19:40:50,033 : INFO : loaded (3000000, 300) matrix from /root/gensim-data/word2vec-google-news-300/word2vec-google-news-300.gz\n"
          ],
          "name": "stderr"
        },
        {
          "output_type": "stream",
          "text": [
            "[==================================================] 100.0% 958.5/958.4MB downloaded\n"
          ],
          "name": "stdout"
        },
        {
          "output_type": "stream",
          "text": [
            "2021-05-22 19:46:18,544 : INFO : fasttext-wiki-news-subwords-300 downloaded\n",
            "2021-05-22 19:46:18,563 : INFO : loading projection weights from /root/gensim-data/fasttext-wiki-news-subwords-300/fasttext-wiki-news-subwords-300.gz\n",
            "2021-05-22 19:51:41,222 : INFO : loaded (999999, 300) matrix from /root/gensim-data/fasttext-wiki-news-subwords-300/fasttext-wiki-news-subwords-300.gz\n"
          ],
          "name": "stderr"
        }
      ]
    },
    {
      "cell_type": "markdown",
      "metadata": {
        "id": "VEY7z3D1mKSp"
      },
      "source": [
        "Realizamos el mismo procedimiento anterior"
      ]
    },
    {
      "cell_type": "code",
      "metadata": {
        "id": "HP6GxBZIkUT-"
      },
      "source": [
        "X_w2v_pretrained_ = []\n",
        "y_w2v_pretrained_ = []\n",
        "X_ft_pretrained_ = []\n",
        "y_ft_pretrained_ = []\n",
        "for i in range(df_afinn.shape[0]):\n",
        "    word = df_afinn.iloc[i,0]\n",
        "    sentiment = df_afinn.iloc[i,1]\n",
        "    if try_apply(model_w2v, word): \n",
        "        X_w2v_pretrained_.append(model_w2v[word]) #Agregamos el embedding del modelo W2V preentrenado si está en el vocabulario\n",
        "        y_w2v_pretrained_.append(sentiment)\n",
        "    if try_apply(model_ft, word): \n",
        "        X_ft_pretrained_.append(model_ft[word]) #Agregamos el embedding del modelo FastText preentrenado si está en el vocabulario\n",
        "        y_ft_pretrained_.append(sentiment)"
      ],
      "execution_count": null,
      "outputs": []
    },
    {
      "cell_type": "code",
      "metadata": {
        "id": "Fc7VcQwukwXE"
      },
      "source": [
        "X_train_w2v_pretrained, X_test_w2v_pretrained, y_train_w2v_pretrained, y_test_w2v_pretrained = train_test_split(X_w2v_pretrained_, y_w2v_pretrained_, random_state=0, test_size=0.1, stratify=y_w2v_pretrained_)\n",
        "X_train_ft_pretrained, X_test_ft_pretrained, y_train_ft_pretrained, y_test_ft_pretrained = train_test_split(X_ft_pretrained_, y_ft_pretrained_, random_state=0, test_size=0.1, stratify=y_ft_pretrained_)"
      ],
      "execution_count": null,
      "outputs": []
    },
    {
      "cell_type": "markdown",
      "metadata": {
        "id": "35kcvgXemPbc"
      },
      "source": [
        "Entrenamos"
      ]
    },
    {
      "cell_type": "code",
      "metadata": {
        "colab": {
          "base_uri": "https://localhost:8080/",
          "height": 1000
        },
        "id": "mhPLPTjBk1zk",
        "outputId": "adda199b-0524-4efb-aec0-e71c7e319e60"
      },
      "source": [
        "#Logistic Regression\n",
        "clf = linear_model.LogisticRegression(max_iter = 1000000)\n",
        "\n",
        "models = {\"word2vec-google-news-300\":(X_train_w2v_pretrained, X_test_w2v_pretrained, y_train_w2v_pretrained, y_test_w2v_pretrained), \"fasttext-wiki-news-subwords-300\":(X_train_ft_pretrained, X_test_ft_pretrained, y_train_ft_pretrained, y_test_ft_pretrained)}\n",
        "\n",
        "for model in models.keys():\n",
        "    X_train, X_test, y_train, y_test = models[model]\n",
        "    clf.fit(X_train, y_train)\n",
        "    y_pred = clf.predict(X_test)\n",
        "    print(80*\"-\")\n",
        "    print(\"Resultados para: \", model) \n",
        "    g = sns.heatmap(confusion_matrix(y_test, y_pred), annot=True, cmap=\"Blues\", fmt = \"d\", yticklabels=[\"-1\",\"1\"])\n",
        "    g.set_yticklabels(g.get_yticklabels(), rotation = 0)\n",
        "    plt.title('Confusion matrix: {} \\n'.format(model))\n",
        "    plt.xlabel('Predicted label')\n",
        "    plt.ylabel('True label');   \n",
        "    plt.show()\n",
        "    print(classification_report(y_test, y_pred)) \n",
        "    print(80*\"-\",\"\\n\\n\")"
      ],
      "execution_count": null,
      "outputs": [
        {
          "output_type": "stream",
          "text": [
            "--------------------------------------------------------------------------------\n",
            "Resultados para:  word2vec-google-news-300\n"
          ],
          "name": "stdout"
        },
        {
          "output_type": "display_data",
          "data": {
            "image/png": "[encoded data removed]",
            "text/plain": [
              "<Figure size 432x288 with 2 Axes>"
            ]
          },
          "metadata": {
            "tags": [],
            "needs_background": "light"
          }
        },
        {
          "output_type": "stream",
          "text": [
            "              precision    recall  f1-score   support\n",
            "\n",
            "          -1       0.97      0.98      0.97       211\n",
            "           1       0.95      0.95      0.95       112\n",
            "\n",
            "    accuracy                           0.97       323\n",
            "   macro avg       0.96      0.96      0.96       323\n",
            "weighted avg       0.97      0.97      0.97       323\n",
            "\n",
            "-------------------------------------------------------------------------------- \n",
            "\n",
            "\n",
            "--------------------------------------------------------------------------------\n",
            "Resultados para:  fasttext-wiki-news-subwords-300\n"
          ],
          "name": "stdout"
        },
        {
          "output_type": "display_data",
          "data": {
            "image/png": "[encoded data removed]",
            "text/plain": [
              "<Figure size 432x288 with 2 Axes>"
            ]
          },
          "metadata": {
            "tags": [],
            "needs_background": "light"
          }
        },
        {
          "output_type": "stream",
          "text": [
            "              precision    recall  f1-score   support\n",
            "\n",
            "          -1       0.98      0.99      0.98       215\n",
            "           1       0.98      0.96      0.97       115\n",
            "\n",
            "    accuracy                           0.98       330\n",
            "   macro avg       0.98      0.97      0.98       330\n",
            "weighted avg       0.98      0.98      0.98       330\n",
            "\n",
            "-------------------------------------------------------------------------------- \n",
            "\n",
            "\n"
          ],
          "name": "stdout"
        }
      ]
    },
    {
      "cell_type": "markdown",
      "metadata": {
        "id": "gLZB6RCmmQ8y"
      },
      "source": [
        "Se puede observar que se tienen resultados mucho mejores que los anteriores, lo cual tiene sentido, pues estos embeddings están entrenados bajo corpus gigantes."
      ]
    }
  ]
}